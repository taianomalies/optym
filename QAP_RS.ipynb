{
  "nbformat": 4,
  "nbformat_minor": 0,
  "metadata": {
    "colab": {
      "provenance": []
    },
    "kernelspec": {
      "name": "python3",
      "display_name": "Python 3"
    },
    "language_info": {
      "name": "python"
    }
  },
  "cells": [
    {
      "cell_type": "code",
      "execution_count": 1,
      "metadata": {
        "id": "saWmaBF_pwsV"
      },
      "outputs": [],
      "source": [
        "import math\n",
        "\n",
        "class RandomNumberGenerator:\n",
        "    def __init__(self, seedVaule=None):\n",
        "        self.__seed=seedVaule\n",
        "    def nextInt(self, low, high):\n",
        "        m = 2147483647\n",
        "        a = 16807\n",
        "        b = 127773\n",
        "        c = 2836\n",
        "        k = int(self.__seed / b)\n",
        "        self.__seed = a * (self.__seed % b) - k * c\n",
        "        if self.__seed < 0:\n",
        "            self.__seed = self.__seed + m\n",
        "        value_0_1 = self.__seed\n",
        "        value_0_1 =  value_0_1/m\n",
        "        return low + int(math.floor(value_0_1 * (high - low + 1)))\n",
        "    def nextFloat(self, low, high):\n",
        "        low*=100000\n",
        "        high*=100000\n",
        "        val = self.nextInt(low,high)/100000.0\n",
        "        return val\n"
      ]
    },
    {
      "cell_type": "code",
      "source": [
        "import numpy as np\n",
        "import random\n",
        "import copy\n",
        "import time\n",
        "\n",
        "siz1and2 = 50\n",
        "rand_min = 1\n",
        "rand_max = 50\n",
        "R = RandomNumberGenerator(10)\n",
        "flow =  np.array([[R.nextInt(rand_min, rand_max) for _ in range(siz1and2)] for _ in range(siz1and2)])\n",
        "distances =  np.array([[R.nextInt(rand_min, rand_max) for _ in range(siz1and2)] for _ in range(siz1and2)])\n",
        "print(flow)\n",
        "print(len(flow), len(flow[0]), len(distances))\n"
      ],
      "metadata": {
        "colab": {
          "base_uri": "https://localhost:8080/"
        },
        "id": "Yp5ReQlzp2Ak",
        "outputId": "7f9af1c7-5671-4c30-8e45-f473f4ec0731"
      },
      "execution_count": 2,
      "outputs": [
        {
          "output_type": "stream",
          "name": "stdout",
          "text": [
            "[[ 1 16 28 ... 43 37 19]\n",
            " [34 39 19 ... 21 35  8]\n",
            " [19 34 44 ... 33 27 45]\n",
            " ...\n",
            " [29 49 49 ...  1  4 32]\n",
            " [36  9 42 ...  7 42 18]\n",
            " [ 8 43 32 ... 35 34 32]]\n",
            "50 50 50\n"
          ]
        }
      ]
    },
    {
      "cell_type": "code",
      "source": [
        "class QAP_RS :\n",
        "    \n",
        "    def __init__(self, flow, distances, max_iter=5000):\n",
        "        self.flow = flow\n",
        "        self.distances = distances\n",
        "        self.best_cost = 999999999\n",
        "        self.solution = self.find_first()\n",
        "        #print(len(flow), len(flow[0]), len(distances), len(distances[0], len(solution)))\n",
        "        self.max_iter = max_iter\n",
        "        \n",
        "    #def find_first(self):\n",
        "    #    for i in range(1):#self.max_iter):\n",
        "    #        ret = []\n",
        "    #        while len(ret < len(self.distances)):\n",
        "    #            x = R.nextInt(0,len(distances))\n",
        "    #            if x not in ret:\n",
        "    #                ret.append(x)\n",
        "    #        return ret\n",
        "\n",
        "    def find_first(self):\n",
        "        \n",
        "        for i in range(1):#self.max_iter):\n",
        "            cost_min = 99999999\n",
        "            cost_max = -99999999\n",
        "            solution = []\n",
        "            some_random_solution = []\n",
        "            for j in range(1000):\n",
        "                while len(some_random_solution) < len(self.distances):\n",
        "                    x = R.nextInt(0,len(distances)-1)\n",
        "                    if x not in some_random_solution:\n",
        "                        some_random_solution.append(x)\n",
        "                if self.cost_function(some_random_solution) < cost_min:\n",
        "                    cost_min = self.cost_function(some_random_solution)\n",
        "                    solution = some_random_solution\n",
        "                if self.cost_function(some_random_solution) > cost_max:\n",
        "                    cost_max = self.cost_function(some_random_solution)\n",
        "            #self.rozstep = cost_max-cost_min\n",
        "            #self.temp = self.rozstep * self.rozstep_temp_factor\n",
        "            print('sposrod losowych najlepszy cost_min, cost_max')\n",
        "            print(cost_min, cost_max)\n",
        "            return solution\n",
        "            #return np.arange(0,len(self.flow))\n",
        "                       \n",
        "    def cost_function (self, solution):\n",
        "        cost = 0\n",
        "        i = 0\n",
        "        for i in range(len(self.flow)):\n",
        "            for j in range(len(self.flow[0])):\n",
        "                cost += self.distances[i][j] * self.flow[solution[i]][solution[j]]\n",
        "        return cost\n",
        "\n",
        "    def flip_model_and_update(self):\n",
        "        def find_pair(solution):\n",
        "            return ( R.nextInt(0,len(solution)-1) , R.nextInt(0,len(solution)-1) ) \n",
        "        pair = find_pair(self.solution)\n",
        "        solution_new = copy.deepcopy(self.solution)\n",
        "        solution_new[pair[0]] = self.solution[pair[1]]\n",
        "        solution_new[pair[1]] = self.solution[pair[0]]\n",
        "        cost_new = self.cost_function(solution_new)\n",
        "        if cost_new < self.best_cost:\n",
        "            self.best_cost = cost_new\n",
        "            self.solution = solution_new\n",
        "        return\n",
        "\n",
        "    def update_models(self):\n",
        "        for i in range(self.max_iter):\n",
        "            self.flip_model_and_update()\n",
        "            \n",
        "\n",
        "\n",
        "q = QAP_RS(flow, distances)\n",
        "print(q.solution)\n",
        "print(q.cost_function(q.solution))\n",
        "Q = copy.deepcopy(q)\n",
        " \n",
        "\n",
        "rets = []\n",
        "#q.flip_model_and_update()\n",
        "for max_iter in [1000, 2000, 3000, 4000, 5000, 6000, 7000, 8000, 9000]: ## jak da sie 9000 to bedzie mniej niz \n",
        "#for max_iter in [4500, 5000, 5001]:\n",
        "    R = RandomNumberGenerator(100)\n",
        "#for max_iter in [5, 10]:\n",
        "    q = copy.deepcopy(Q)\n",
        "    q.max_iter = max_iter\n",
        "#tim = time.time()\n",
        "    start_time = time.time()\n",
        "    q.update_models()\n",
        "    #print(q.solution)\n",
        "    print()\n",
        "    print(max_iter, q.cost_function(q.solution))\n",
        "    tim =  time.time()-start_time\n",
        "    print('time: ',tim)\n",
        "    rets.append((max_iter, tim))\n",
        "\n",
        "#3000 1513091\n",
        "\n",
        "#5000 1516114"
      ],
      "metadata": {
        "colab": {
          "base_uri": "https://localhost:8080/"
        },
        "id": "H7T37_wMp4Fi",
        "outputId": "2b805c21-bffc-4e65-e436-82c3a9f728cb"
      },
      "execution_count": 8,
      "outputs": [
        {
          "output_type": "stream",
          "name": "stdout",
          "text": [
            "sposrod losowych najlepszy cost_min, cost_max\n",
            "1654402 1654402\n",
            "[18, 12, 21, 42, 32, 2, 27, 20, 11, 36, 34, 44, 49, 23, 16, 30, 0, 17, 26, 10, 28, 47, 29, 40, 13, 41, 37, 1, 22, 48, 19, 14, 8, 4, 43, 7, 33, 24, 15, 46, 45, 35, 6, 31, 39, 9, 5, 38, 25, 3]\n",
            "1654402\n",
            "\n",
            "1000 1536432\n",
            "time:  1.715381383895874\n",
            "\n",
            "2000 1525783\n",
            "time:  3.286954402923584\n",
            "\n",
            "3000 1520402\n",
            "time:  6.509231805801392\n",
            "\n",
            "4000 1516893\n",
            "time:  6.476776123046875\n",
            "\n",
            "5000 1514177\n",
            "time:  9.677934169769287\n",
            "\n",
            "6000 1512838\n",
            "time:  11.383301258087158\n",
            "\n",
            "7000 1511905\n",
            "time:  13.099725008010864\n",
            "\n",
            "8000 1511274\n",
            "time:  14.925838232040405\n",
            "\n",
            "9000 1508687\n",
            "time:  16.129855632781982\n"
          ]
        }
      ]
    },
    {
      "cell_type": "code",
      "source": [],
      "metadata": {
        "id": "TMYmFMmRp7W-"
      },
      "execution_count": null,
      "outputs": []
    }
  ]
}